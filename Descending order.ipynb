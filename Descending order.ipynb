{
  "nbformat": 4,
  "nbformat_minor": 0,
  "metadata": {
    "colab": {
      "provenance": [],
      "authorship_tag": "ABX9TyPU5970SycNhSuSgk5+8dqA",
      "include_colab_link": true
    },
    "kernelspec": {
      "name": "python3",
      "display_name": "Python 3"
    },
    "language_info": {
      "name": "python"
    }
  },
  "cells": [
    {
      "cell_type": "markdown",
      "metadata": {
        "id": "view-in-github",
        "colab_type": "text"
      },
      "source": [
        "<a href=\"https://colab.research.google.com/github/MEKALA-KRISTOPHER/Python-mini-project/blob/main/Descending%20order.ipynb\" target=\"_parent\"><img src=\"https://colab.research.google.com/assets/colab-badge.svg\" alt=\"Open In Colab\"/></a>"
      ]
    },
    {
      "cell_type": "code",
      "execution_count": null,
      "metadata": {
        "colab": {
          "base_uri": "https://localhost:8080/"
        },
        "id": "Oh1RpRUHtKOM",
        "outputId": "3e0d01ce-c328-4c3e-96fd-aa6ba38ff658"
      },
      "outputs": [
        {
          "output_type": "stream",
          "name": "stdout",
          "text": [
            "hello world\n"
          ]
        }
      ],
      "source": [
        "print(\"hello world\")"
      ]
    },
    {
      "cell_type": "code",
      "source": [
        "import random\n",
        "X=[]\n",
        "Y=[]\n",
        "[X.append(random.randint(0,25)) for _ in range(25)]\n",
        "[Y.append(random.randint(0,25)) for _ in range(25)]"
      ],
      "metadata": {
        "colab": {
          "base_uri": "https://localhost:8080/"
        },
        "id": "ntN9B_zPtyN1",
        "outputId": "619e2730-c1f2-4842-e029-2cf3463a5bc1"
      },
      "execution_count": null,
      "outputs": [
        {
          "output_type": "execute_result",
          "data": {
            "text/plain": [
              "[None,\n",
              " None,\n",
              " None,\n",
              " None,\n",
              " None,\n",
              " None,\n",
              " None,\n",
              " None,\n",
              " None,\n",
              " None,\n",
              " None,\n",
              " None,\n",
              " None,\n",
              " None,\n",
              " None,\n",
              " None,\n",
              " None,\n",
              " None,\n",
              " None,\n",
              " None,\n",
              " None,\n",
              " None,\n",
              " None,\n",
              " None,\n",
              " None]"
            ]
          },
          "metadata": {},
          "execution_count": 9
        }
      ]
    },
    {
      "cell_type": "code",
      "source": [],
      "metadata": {
        "id": "rZemeXBhsytx"
      },
      "execution_count": null,
      "outputs": []
    },
    {
      "cell_type": "code",
      "source": [
        "from matplotlib import pyplot as plt"
      ],
      "metadata": {
        "id": "wJ_z0iXdvznE"
      },
      "execution_count": null,
      "outputs": []
    },
    {
      "cell_type": "code",
      "source": [
        "plt.plot(X,Y)"
      ],
      "metadata": {
        "id": "Mn8Zdkw0wlJ4"
      },
      "execution_count": null,
      "outputs": []
    },
    {
      "cell_type": "code",
      "source": [
        "def cal():\n",
        "\n",
        "#Enter  First Number\n",
        "    a=int(input(\"Enter first Number\"))\n",
        "\n",
        "#Enter an Operator\n",
        "\n",
        "    operator=(input(\"Enter  Arthmetical Operator [+,-,*,/,%]\\n\"))\n",
        "    if operator != \"+\" and operator !=\"-\" and operator !=\"*\" and operator !=\"/\" and operator !=\"%\":\n",
        "      print(\"Arthmetical Operator Invalid\")\n",
        "\n",
        "\n",
        "#Enter  Second Number\n",
        "\n",
        "    b=int(input(\"Enter second Number\"))\n",
        "\n",
        "    if a==int and b==int :\n",
        "      print(\" \")\n",
        "    else:\n",
        "      print(\"Enter valid Number\")\n",
        "\n",
        "#Procedure of calculation\n",
        "\n",
        "    if operator == \"+\" :\n",
        "     res=a+b\n",
        "     print(\"Addition : \",res)\n",
        "\n",
        "    elif operator == \"-\" :\n",
        "     res=a-b\n",
        "     print(\"Subtraction : \",res)\n",
        "\n",
        "    elif operator == \"*\" :\n",
        "     res=a*b\n",
        "     print(\"Multiplication : \",res)\n",
        "\n",
        "    elif operator == \"/\" :\n",
        "     res=a/b\n",
        "     print(\"Division: \",res)\n",
        "\n",
        "    elif operator == \"%\" :\n",
        "     res=a%b\n",
        "     print(\"Modulo : \",res)"
      ],
      "metadata": {
        "id": "q8Eo9NZbx3qQ"
      },
      "execution_count": null,
      "outputs": []
    },
    {
      "cell_type": "code",
      "source": [
        "cal()"
      ],
      "metadata": {
        "colab": {
          "base_uri": "https://localhost:8080/"
        },
        "id": "jXA-Xoam4G-p",
        "outputId": "4a19b55a-652d-4b30-826a-0cccfeda4ccb"
      },
      "execution_count": null,
      "outputs": [
        {
          "output_type": "stream",
          "name": "stdout",
          "text": [
            "Enter Number4\n",
            "Enter  Arthmetical Operator [+,-,*,/,%]\n",
            "+\n",
            "Enter Number4\n",
            "Enter valid Number\n",
            "Addition :  8\n"
          ]
        }
      ]
    },
    {
      "cell_type": "code",
      "source": [
        "\n",
        "def list(numbers):\n",
        "\n",
        "    return sorted(numbers, reverse=True)\n",
        "\n",
        "# Enter a number\n",
        "\n",
        "    num = int(input(\"Enter numbers : \"))\n",
        "\n",
        "# Convert the number to  list\n",
        "\n",
        "    list= [int(num)for _ in num]\n",
        "\n",
        "# Call the function and store the result\n",
        "\n",
        "    result = list(numbers)"
      ],
      "metadata": {
        "id": "y_MhIcgi4awD"
      },
      "execution_count": 124,
      "outputs": []
    },
    {
      "cell_type": "code",
      "source": [
        "list([8,9,0,1,2])"
      ],
      "metadata": {
        "colab": {
          "base_uri": "https://localhost:8080/"
        },
        "id": "NH9iIMPBE1Ye",
        "outputId": "fa8fea43-a481-4294-db12-cd8569ebc5ae"
      },
      "execution_count": 123,
      "outputs": [
        {
          "output_type": "execute_result",
          "data": {
            "text/plain": [
              "[9, 8, 2, 1, 0]"
            ]
          },
          "metadata": {},
          "execution_count": 123
        }
      ]
    },
    {
      "cell_type": "code",
      "source": [
        "def mini(list):\n",
        "     print(\"enter numbers :\")\n",
        "     minival =list[0]"
      ],
      "metadata": {
        "id": "P8pBw0ayHMeo"
      },
      "execution_count": 127,
      "outputs": []
    }
  ]
}