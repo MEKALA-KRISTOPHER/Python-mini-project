{
  "nbformat": 4,
  "nbformat_minor": 0,
  "metadata": {
    "colab": {
      "provenance": [],
      "authorship_tag": "ABX9TyMSEdV2BqjG/QT2MAQNoKwd",
      "include_colab_link": true
    },
    "kernelspec": {
      "name": "python3",
      "display_name": "Python 3"
    },
    "language_info": {
      "name": "python"
    }
  },
  "cells": [
    {
      "cell_type": "markdown",
      "metadata": {
        "id": "view-in-github",
        "colab_type": "text"
      },
      "source": [
        "<a href=\"https://colab.research.google.com/github/MEKALA-KRISTOPHER/Python-mini-project/blob/main/Descending_order.ipynb\" target=\"_parent\"><img src=\"https://colab.research.google.com/assets/colab-badge.svg\" alt=\"Open In Colab\"/></a>"
      ]
    },
    {
      "cell_type": "code",
      "source": [
        "\n",
        "def list(numbers):\n",
        "\n",
        "    return sorted(numbers, reverse=True)\n",
        "\n",
        "# Enter a number\n",
        "\n",
        "    num = int(input(\"Enter numbers : \"))\n",
        "\n",
        "# Convert the number to  list\n",
        "\n",
        "    list= [int(num)for _ in num]\n",
        "\n",
        "# Call the function and store the result\n",
        "\n",
        "    result = list(numbers)"
      ],
      "metadata": {
        "id": "y_MhIcgi4awD"
      },
      "execution_count": 124,
      "outputs": []
    },
    {
      "cell_type": "code",
      "source": [
        "list([8,9,0,1,2])"
      ],
      "metadata": {
        "colab": {
          "base_uri": "https://localhost:8080/"
        },
        "id": "NH9iIMPBE1Ye",
        "outputId": "fa8fea43-a481-4294-db12-cd8569ebc5ae"
      },
      "execution_count": 123,
      "outputs": [
        {
          "output_type": "execute_result",
          "data": {
            "text/plain": [
              "[9, 8, 2, 1, 0]"
            ]
          },
          "metadata": {},
          "execution_count": 123
        }
      ]
    },
    {
      "cell_type": "code",
      "source": [
        "def mini(list):\n",
        "     print(\"enter numbers :\")\n",
        "     minival =list[0]"
      ],
      "metadata": {
        "id": "P8pBw0ayHMeo"
      },
      "execution_count": 127,
      "outputs": []
    }
  ]
}